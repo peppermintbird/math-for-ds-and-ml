{
  "nbformat": 4,
  "nbformat_minor": 0,
  "metadata": {
    "colab": {
      "provenance": [],
      "authorship_tag": "ABX9TyNzFLe9AJq+EnXb4h3y4hvq",
      "include_colab_link": true
    },
    "kernelspec": {
      "name": "python3",
      "display_name": "Python 3"
    },
    "language_info": {
      "name": "python"
    }
  },
  "cells": [
    {
      "cell_type": "markdown",
      "metadata": {
        "id": "view-in-github",
        "colab_type": "text"
      },
      "source": [
        "<a href=\"https://colab.research.google.com/github/peppermintbird/math-for-ds-and-ml/blob/main/week_2_coding_assignment_gaussian_elimination.ipynb\" target=\"_parent\"><img src=\"https://colab.research.google.com/assets/colab-badge.svg\" alt=\"Open In Colab\"/></a>"
      ]
    },
    {
      "cell_type": "code",
      "execution_count": 1,
      "metadata": {
        "colab": {
          "base_uri": "https://localhost:8080/"
        },
        "id": "xfPEwudWyNSj",
        "outputId": "7fc3d2ff-d16f-4d36-f5f3-300e826f660c"
      },
      "outputs": [
        {
          "output_type": "execute_result",
          "data": {
            "text/plain": [
              "array([[ 1. ,  0.5, -0.5,  4. ],\n",
              "       [ 0. ,  1. ,  1. ,  2. ],\n",
              "       [-0. , -0. ,  1. , -1. ]])"
            ]
          },
          "metadata": {},
          "execution_count": 1
        }
      ],
      "source": [
        "import numpy as np\n",
        "\n",
        "def get_index_first_non_zero_value_from_column(M, current_row, column):\n",
        "    \"\"\"\n",
        "    This function returns the index of the first non-zero value from a given column below a given row.\n",
        "    \"\"\"\n",
        "    for row in range(current_row + 1, len(M)):\n",
        "        if not np.isclose(M[row, column], 0):\n",
        "            return row\n",
        "    return None  # Should not happen if the system is non-singular\n",
        "\n",
        "def swap_rows(M, row1, row2):\n",
        "    \"\"\"\n",
        "    Swaps two rows in a given matrix.\n",
        "    \"\"\"\n",
        "    M[[row1, row2]] = M[[row2, row1]]\n",
        "    return M\n",
        "\n",
        "def augmented_matrix(A, B):\n",
        "    \"\"\"\n",
        "    Combines coefficient matrix A and constant matrix B into an augmented matrix.\n",
        "    \"\"\"\n",
        "    return np.hstack((A, B))\n",
        "\n",
        "def row_echelon_form(A, B):\n",
        "    \"\"\"\n",
        "    Utilizes elementary row operations to transform a given set of matrices,\n",
        "    which represent the coefficients and constant terms of a linear system, into row echelon form.\n",
        "\n",
        "    Parameters:\n",
        "    - A (numpy.array): The input square matrix of coefficients.\n",
        "    - B (numpy.array): The input column matrix of constant terms\n",
        "\n",
        "    Returns:\n",
        "    numpy.array: A new augmented matrix in row echelon form with pivots as 1.\n",
        "    \"\"\"\n",
        "\n",
        "    # Before any computation, check if matrix A (coefficient matrix) has non-zero determinant.\n",
        "    # It will be used the numpy sub library np.linalg to compute it.\n",
        "\n",
        "    det_A = np.linalg.det(A)\n",
        "\n",
        "    # Returns \"Singular system\" if determinant is zero\n",
        "    if np.isclose(det_A, 0):\n",
        "        return 'Singular system'\n",
        "\n",
        "    # Make copies of the input matrices to avoid modifying the originals\n",
        "    A = A.copy()\n",
        "    B = B.copy()\n",
        "\n",
        "    # Convert matrices to float to prevent integer division\n",
        "    A = A.astype('float64')\n",
        "    B = B.astype('float64')\n",
        "\n",
        "    # Number of rows in the coefficient matrix\n",
        "    num_rows = len(A)\n",
        "\n",
        "    ### START CODE HERE ###\n",
        "\n",
        "    # Transform matrices A and B into the augmented matrix M\n",
        "    M = augmented_matrix(A, B)\n",
        "\n",
        "    # Iterate over the rows.\n",
        "    for row in range(num_rows):\n",
        "\n",
        "        # The first pivot candidate is always in the main diagonal, let's get it.\n",
        "        pivot_candidate = M[row, row]\n",
        "\n",
        "        # If pivot_candidate is zero, it cannot be a pivot for this row.\n",
        "        if np.isclose(pivot_candidate, 0):\n",
        "            # Get the index of the first non-zero value below the pivot_candidate.\n",
        "            first_non_zero_value_below_pivot_candidate = get_index_first_non_zero_value_from_column(M, row, row)\n",
        "\n",
        "            if first_non_zero_value_below_pivot_candidate is not None:\n",
        "                # Swap rows\n",
        "                M = swap_rows(M, row, first_non_zero_value_below_pivot_candidate)\n",
        "\n",
        "                # Get the pivot, which is in the main diagonal now\n",
        "                pivot = M[row, row]\n",
        "            else:\n",
        "                continue  # This should not happen in a non-singular system\n",
        "        else:\n",
        "            pivot = pivot_candidate\n",
        "\n",
        "        # Divide the current row by the pivot, so the new pivot will be 1\n",
        "        M[row] = 1 / pivot * M[row]\n",
        "\n",
        "        # Perform row reduction for rows below the current row\n",
        "        for j in range(row + 1, num_rows):\n",
        "            value_below_pivot = M[j, row]\n",
        "            M[j] = M[j] - value_below_pivot * M[row]\n",
        "\n",
        "    ### END CODE HERE ###\n",
        "\n",
        "    return M\n",
        "\n",
        "# Example usage:\n",
        "A = np.array([[2, 1, -1],\n",
        "              [-3, -1, 2],\n",
        "              [-2, 1, 2]])\n",
        "\n",
        "B = np.array([[8],\n",
        "              [-11],\n",
        "              [-3]])\n",
        "\n",
        "row_echelon_form(A, B)\n"
      ]
    }
  ]
}