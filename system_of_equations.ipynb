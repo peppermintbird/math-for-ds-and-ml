{
  "nbformat": 4,
  "nbformat_minor": 0,
  "metadata": {
    "colab": {
      "provenance": [],
      "authorship_tag": "ABX9TyME7v8F0p8SJCi/FcnZ/f4W",
      "include_colab_link": true
    },
    "kernelspec": {
      "name": "python3",
      "display_name": "Python 3"
    },
    "language_info": {
      "name": "python"
    }
  },
  "cells": [
    {
      "cell_type": "markdown",
      "metadata": {
        "id": "view-in-github",
        "colab_type": "text"
      },
      "source": [
        "<a href=\"https://colab.research.google.com/github/peppermintbird/math-for-ds-and-ml/blob/main/system_of_equations.ipynb\" target=\"_parent\"><img src=\"https://colab.research.google.com/assets/colab-badge.svg\" alt=\"Open In Colab\"/></a>"
      ]
    },
    {
      "cell_type": "markdown",
      "source": [
        "# System of ***linear*** equations\n",
        "\n"
      ],
      "metadata": {
        "id": "TGZRIIlt_9oE"
      }
    },
    {
      "cell_type": "markdown",
      "source": [
        "## System 1\n",
        "\n",
        "---\n",
        "\n"
      ],
      "metadata": {
        "id": "HiUvvvMFANyV"
      }
    },
    {
      "cell_type": "markdown",
      "source": [
        " a + b + c = 10\n",
        "\n",
        " a + b + 2c = 15\n",
        "\n",
        " a + b + 3c = 20\n",
        "\n",
        ">INFINITELY MANY SOLUTIONS\n",
        "\n",
        "\n",
        "\n",
        "\n"
      ],
      "metadata": {
        "id": "TW2QLN7fASKJ"
      }
    },
    {
      "cell_type": "markdown",
      "source": [
        "## System 2\n",
        "\n",
        "\n",
        "\n",
        "---\n",
        "\n"
      ],
      "metadata": {
        "id": "u4pFTnSsAtRu"
      }
    },
    {
      "cell_type": "markdown",
      "source": [
        " a + b + c = 10\n",
        "\n",
        " a + b + 2c = 15\n",
        "\n",
        " a + b + 3c = 18\n",
        "\n",
        ">NO SOLUTIONS"
      ],
      "metadata": {
        "id": "-kSvVPtYA4SJ"
      }
    },
    {
      "cell_type": "markdown",
      "source": [
        "## System 3\n",
        "---"
      ],
      "metadata": {
        "id": "1uode8FyA-7-"
      }
    },
    {
      "cell_type": "markdown",
      "source": [
        " a + b + c = 10\n",
        "\n",
        " a + 2b + 2c = 20\n",
        "\n",
        " 3a + 3b + 3c = 30\n",
        "\n",
        ">INFINITELY MANY SOLUTIONS"
      ],
      "metadata": {
        "id": "e-cy4USXBE5X"
      }
    },
    {
      "cell_type": "markdown",
      "source": [
        "## Linear equations rules\n",
        "---"
      ],
      "metadata": {
        "id": "JAUNMz95BaZo"
      }
    },
    {
      "cell_type": "markdown",
      "source": [
        "- Must have variables\n",
        "- Can have numbers and scalars attached to these variables\n",
        "- One can multiply the variable by scalars, add or subtract or even add a constant.   "
      ],
      "metadata": {
        "id": "fsfIPP2DBjI_"
      }
    },
    {
      "cell_type": "markdown",
      "source": [
        "Examples:\n",
        "\n",
        " a + b + c = 10\n",
        "\n",
        " 2a +eb = 15\n",
        "\n",
        " 3.4a + 48.99b + 2c = 122.5\n",
        "\n"
      ],
      "metadata": {
        "id": "KWemovCaCFBi"
      }
    },
    {
      "cell_type": "markdown",
      "source": [
        "What are ***not*** examples of linear equations:\n",
        "\n",
        "$y=log(x)$\n",
        "\n",
        "$y = 2^x + 3$\n",
        "\n",
        "$y = \\frac{1}{x + 1}$\n",
        "\n"
      ],
      "metadata": {
        "id": "uck4L581C-0M"
      }
    }
  ]
}