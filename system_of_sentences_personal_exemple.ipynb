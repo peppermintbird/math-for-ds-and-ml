{
  "nbformat": 4,
  "nbformat_minor": 0,
  "metadata": {
    "colab": {
      "provenance": [],
      "authorship_tag": "ABX9TyOmCOENA8csmAEN+Mpq/OTa",
      "include_colab_link": true
    },
    "kernelspec": {
      "name": "python3",
      "display_name": "Python 3"
    },
    "language_info": {
      "name": "python"
    }
  },
  "cells": [
    {
      "cell_type": "markdown",
      "metadata": {
        "id": "view-in-github",
        "colab_type": "text"
      },
      "source": [
        "<a href=\"https://colab.research.google.com/github/peppermintbird/math-for-ds-and-ml/blob/main/system_of_sentences_personal_exemple.ipynb\" target=\"_parent\"><img src=\"https://colab.research.google.com/assets/colab-badge.svg\" alt=\"Open In Colab\"/></a>"
      ]
    },
    {
      "cell_type": "code",
      "execution_count": null,
      "metadata": {
        "id": "pnJ4ngv8NrAt"
      },
      "outputs": [],
      "source": []
    },
    {
      "cell_type": "markdown",
      "source": [
        ">❗**The math here is funky. Just like the last sentence.**"
      ],
      "metadata": {
        "id": "M7j_bSQHUAU4"
      }
    },
    {
      "cell_type": "markdown",
      "source": [
        "# Using basic algebra and system of sentences to explain English pluralization\n",
        "\n",
        "---"
      ],
      "metadata": {
        "id": "HFzzkXv9OpB4"
      }
    },
    {
      "cell_type": "markdown",
      "source": [
        "### Basic Ruler of Pluralization\n",
        "#### 1. The plural of a regular noun is the noun plus \"s\". For most regular nouns, this can be written as:"
      ],
      "metadata": {
        "id": "Gixuq0d2OwOB"
      }
    },
    {
      "cell_type": "markdown",
      "source": [
        "$$\n",
        "P(x) = x + s\n",
        "$$"
      ],
      "metadata": {
        "id": "V_H_Yz38PzJA"
      }
    },
    {
      "cell_type": "markdown",
      "source": [
        "\n",
        "\n",
        "*   $P$ = plural\n",
        "*   $x$ = noun\n",
        "*   $s$ = the letter indicating the plural\n",
        "\n"
      ],
      "metadata": {
        "id": "CrHrXrsXQnwo"
      }
    },
    {
      "cell_type": "markdown",
      "source": [
        "#### 2. When the verb isn't regular, we need to consider some conditional rules."
      ],
      "metadata": {
        "id": "5dR9MqYURJFh"
      }
    },
    {
      "cell_type": "markdown",
      "source": [
        "##### Condional rules"
      ],
      "metadata": {
        "id": "tePIzEoSRkOy"
      }
    },
    {
      "cell_type": "markdown",
      "source": [
        "1. Nouns ending in -s, -x, -z, -sh, or -ch add \"es\"."
      ],
      "metadata": {
        "id": "GDS1MR7qRaCo"
      }
    },
    {
      "cell_type": "markdown",
      "source": [
        "$$P(x) = x + es$$"
      ],
      "metadata": {
        "id": "K5EZLS5ERwY4"
      }
    },
    {
      "cell_type": "markdown",
      "source": [
        "$$\n",
        " Bus → P(bus) = bus + es = buses\n",
        "$$\n",
        "$$\n",
        "Box → P(box) = box + es = boxes\n",
        "$$"
      ],
      "metadata": {
        "id": "ShFdKjMmSGYc"
      }
    },
    {
      "cell_type": "markdown",
      "source": [
        "2. Nouns ending in -y preceded by a consonant change y to ies, if preceded by a vowel add s."
      ],
      "metadata": {
        "id": "W8UDHqHQSpMC"
      }
    },
    {
      "cell_type": "markdown",
      "source": [
        "$P(y)=$\\begin{cases}\n",
        "y + s & \\text{if preceded by a vowel} \\\\\n",
        "y - y + ies & \\text{if preceded by a consonant}\n",
        "\\end{cases}\n"
      ],
      "metadata": {
        "id": "M8ZyOHv3SyAk"
      }
    },
    {
      "cell_type": "markdown",
      "source": [
        "3. Nouns ending in -f or -fe change f or fe to ves. In some cases, just add s."
      ],
      "metadata": {
        "id": "STR5G4LIThYd"
      }
    },
    {
      "cell_type": "markdown",
      "source": [
        "$P(f,fe) =$ \\begin{cases}\n",
        "f - f + ves & \\text{if f changes to ves} \\\\\n",
        "fe - fe + ves & \\text{if fe changes to ves} \\\\\n",
        "f + s & \\text{otherwise}\n",
        "\\end{cases}"
      ],
      "metadata": {
        "id": "enli94q_TqRK"
      }
    },
    {
      "cell_type": "markdown",
      "source": [],
      "metadata": {
        "id": "n4BfK7N2TULS"
      }
    }
  ]
}